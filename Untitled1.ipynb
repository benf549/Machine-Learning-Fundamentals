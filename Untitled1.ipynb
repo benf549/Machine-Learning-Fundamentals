{
 "cells": [
  {
   "cell_type": "code",
   "execution_count": null,
   "metadata": {},
   "outputs": [],
   "source": [
    "numbers = []\n",
    "while True:\n",
    "    num = input(\"enter a number: \")\n",
    "    if num == \"done\" : break\n",
    "    try:\n",
    "        fval = float(num)\n",
    "        numbers.append(fval)\n",
    "    except:\n",
    "        print(\"Invalid Input.\")\n",
    "        continue\n",
    "        \n",
    "smallest = largest = numbers[0]\n",
    "for item in numbers:\n",
    "    if item < smallest:\n",
    "        smallest = item\n",
    "    elif item > largest:\n",
    "        largest = item\n",
    "print(largest)\n",
    "print(smallest)"
   ]
  },
  {
   "cell_type": "code",
   "execution_count": null,
   "metadata": {},
   "outputs": [],
   "source": [
    "_input = input(\"input: \")\n",
    "broken = _input.split()"
   ]
  },
  {
   "cell_type": "code",
   "execution_count": null,
   "metadata": {},
   "outputs": [],
   "source": []
  }
 ],
 "metadata": {
  "kernelspec": {
   "display_name": "Python 3",
   "language": "python",
   "name": "python3"
  },
  "language_info": {
   "codemirror_mode": {
    "name": "ipython",
    "version": 3
   },
   "file_extension": ".py",
   "mimetype": "text/x-python",
   "name": "python",
   "nbconvert_exporter": "python",
   "pygments_lexer": "ipython3",
   "version": "3.8.5"
  }
 },
 "nbformat": 4,
 "nbformat_minor": 4
}
