{
 "cells": [
  {
   "cell_type": "code",
   "execution_count": 1,
   "metadata": {},
   "outputs": [],
   "source": [
    "import pandas as pd\n",
    "import numpy as np\n",
    "import matplotlib.pyplot as plt"
   ]
  },
  {
   "cell_type": "code",
   "execution_count": 2,
   "metadata": {},
   "outputs": [],
   "source": [
    "def sigmoid(x):\n",
    "    return 1/(1+np.exp(-x))"
   ]
  },
  {
   "cell_type": "markdown",
   "metadata": {},
   "source": [
    "### Set Up Neural Net Class (Same Code as 'Neural Network.ipynb')"
   ]
  },
  {
   "cell_type": "code",
   "execution_count": 3,
   "metadata": {},
   "outputs": [],
   "source": [
    "class NeuralNetwork:\n",
    "    def __init__(self, input_nodes, hidden_nodes, output_nodes):\n",
    "        self.learning_rate = 0.1\n",
    "        self.input_nodes = input_nodes\n",
    "        self.hidden_nodes = hidden_nodes\n",
    "        self.output_nodes = output_nodes\n",
    "        \n",
    "        #Weights connecting inputs -> hidden layer\n",
    "        self.weights_ih = np.random.uniform(low=-1, high=1, size=(hidden_nodes,input_nodes))\n",
    "        #Weights connecting hidden layer -> output layer\n",
    "        self.weights_ho = np.random.uniform(low=-1, high=1, size=(output_nodes, hidden_nodes))\n",
    "        \n",
    "        #Init Weights as random valued vectors of height = to number of nodes\n",
    "        self.bias_ih = np.random.uniform(low=-1, high=1, size=[hidden_nodes, 1])\n",
    "        self.bias_ho = np.random.uniform(low=-1, high=1, size=[output_nodes, 1])\n",
    "\n",
    "    def feed_forward(self, inputs):\n",
    "        #Reshape inputs to have the apropriate (n x 1) shape (column vector)\n",
    "        reshaped = np.array(inputs).reshape(self.input_nodes, 1)\n",
    "        \n",
    "        #Apply H = Sigmoid(W*I + B)\n",
    "        hidden = np.matmul(self.weights_ih, reshaped)\n",
    "        hidden = hidden + self.bias_ih\n",
    "        hidden = sigmoid(hidden)    \n",
    "\n",
    "        #Apply O = Sigmoid(W*H + B)\n",
    "        output = np.matmul(self.weights_ho, hidden)\n",
    "        output = output + self.bias_ho\n",
    "        output = sigmoid(output)\n",
    "        \n",
    "        #Return O\n",
    "        return output\n",
    "    \n",
    "    def train(self, inputs, targets):\n",
    "        \n",
    "        ###\n",
    "        ### Apply Feed Forward Algorithm to Get Outputs and Hidden layer sigmoided\n",
    "        ###\n",
    "        \n",
    "        reshaped = np.array(inputs).reshape(self.input_nodes, 1)\n",
    "        \n",
    "        #Apply H = Sigmoid(W*I + B)\n",
    "        hidden = np.matmul(self.weights_ih, reshaped)\n",
    "        hidden = hidden + self.bias_ih\n",
    "        hidden = sigmoid(hidden)    \n",
    "\n",
    "        #Apply O = Sigmoid(W*H + B)\n",
    "        output = np.matmul(self.weights_ho, hidden)\n",
    "        output = output + self.bias_ho\n",
    "        output = sigmoid(output)\n",
    "                \n",
    "        ###\n",
    "        ### Apply Gradient Descent Algorithm\n",
    "        ###\n",
    "        \n",
    "        #Reshape targets to convert from list to n x 1 array\n",
    "        targets = np.array(targets).reshape(self.output_nodes, 1)\n",
    "        #Calculate output errors as difference between point label and NN output\n",
    "        output_errors = targets - output\n",
    "        \n",
    "        #Calculate gradient of output processed by sigmoid as (sigmoid * 1-sigmoid)\n",
    "        gradient = output * (1 - output)\n",
    "        #Calculate W_ho = lr * gradient * E_o x H^t\n",
    "        delta_weight_ho = self.learning_rate * gradient * output_errors\n",
    "        #Calculate new biases before multiplying by transposed hidden layer from deltas\n",
    "        self.bias_ho += delta_weight_ho\n",
    "        #Calculate new weights from deltas\n",
    "        delta_weight_ho = np.matmul(delta_weight_ho, np.transpose(hidden))\n",
    "        #Use calculated deltas to adjust hidden to output error deltas\n",
    "        self.weights_ho += delta_weight_ho\n",
    "        \n",
    "        #Calculate hidden_errors by W_ho^t * output_errors \n",
    "        hidden_errors = np.matmul(np.transpose(self.weights_ho), output_errors)\n",
    "        #Apply gradient to sigmoid transformation of hidden layer as above\n",
    "        hidden_gradient = hidden * (1 - hidden)\n",
    "        #Calculate deltas for bias adjustments\n",
    "        delta_weight_ih = self.learning_rate * hidden_gradient * hidden_errors\n",
    "        self.bias_ih += delta_weight_ih\n",
    "        #Finalize deltas for weights adjustment.\n",
    "        delta_weight_ih = np.matmul(delta_weight_ih, np.transpose(reshaped))\n",
    "        #Update input -> hidden layer weights with calculated deltas\n",
    "        self.weights_ih += delta_weight_ih\n",
    "\n",
    "        "
   ]
  },
  {
   "cell_type": "code",
   "execution_count": 4,
   "metadata": {},
   "outputs": [],
   "source": [
    "data = pd.read_csv('./mnist_train.csv', header=None)"
   ]
  },
  {
   "cell_type": "markdown",
   "metadata": {},
   "source": [
    "### Separate Data By Label and Value"
   ]
  },
  {
   "cell_type": "code",
   "execution_count": 5,
   "metadata": {},
   "outputs": [],
   "source": [
    "values = np.array(data)"
   ]
  },
  {
   "cell_type": "markdown",
   "metadata": {},
   "source": [
    "##### Initialize Neural Net With 794 (28x28) Grayscale Values as Inputs, 100 Node Hidden Layer, and 10 Outputs [prediction confidence of 0-9]"
   ]
  },
  {
   "cell_type": "code",
   "execution_count": 6,
   "metadata": {},
   "outputs": [],
   "source": [
    "brain = NeuralNetwork(784, 100, 10)"
   ]
  },
  {
   "cell_type": "markdown",
   "metadata": {},
   "source": [
    "### Train Neural Net"
   ]
  },
  {
   "cell_type": "code",
   "execution_count": 7,
   "metadata": {},
   "outputs": [],
   "source": [
    "for row in values:\n",
    "    label = [1 if row[0]==x else 0 for x in range(10)]\n",
    "    # ex: label should be [0 0 0 1 0 0 0 0 0 0] for a value of 3\n",
    "    # Train data on grayscale values normalized between 0 and 1. (divide each value by 255). Train on corresponding matrix label generated above\n",
    "    brain.train(row[1:] / 255, label)\n"
   ]
  },
  {
   "cell_type": "markdown",
   "metadata": {},
   "source": [
    "##### Calculate Training Data Prediction Accuracy"
   ]
  },
  {
   "cell_type": "code",
   "execution_count": 8,
   "metadata": {},
   "outputs": [],
   "source": [
    "def nnout(row):\n",
    "    # Returns whether prediction made by trained NN matches the training data at a given row (input). Normalize each value as above.\n",
    "    guess = brain.feed_forward(values[row, 1:] / 255)\n",
    "    # Returns boolean whether prediction is equal to value in labels\n",
    "    return np.argmax(guess) == values[row, 0]"
   ]
  },
  {
   "cell_type": "code",
   "execution_count": 9,
   "metadata": {},
   "outputs": [
    {
     "name": "stdout",
     "output_type": "stream",
     "text": [
      "Training Data Accuracy:  0.9466833333333333\n"
     ]
    }
   ],
   "source": [
    "print('Training Data Accuracy: ', sum([nnout(x) for x in range(len(values))])/len(values))"
   ]
  },
  {
   "cell_type": "markdown",
   "metadata": {},
   "source": [
    "### Load testing data"
   ]
  },
  {
   "cell_type": "code",
   "execution_count": 10,
   "metadata": {},
   "outputs": [],
   "source": [
    "test = np.array(pd.read_csv('./mnist_test.csv', header=None))"
   ]
  },
  {
   "cell_type": "markdown",
   "metadata": {},
   "source": [
    "##### Calculate training data accuracy"
   ]
  },
  {
   "cell_type": "code",
   "execution_count": 11,
   "metadata": {},
   "outputs": [
    {
     "name": "stdout",
     "output_type": "stream",
     "text": [
      "Test Data Accuracy:  0.9441\n"
     ]
    }
   ],
   "source": [
    "guesses = []\n",
    "for row in test:\n",
    "    guess = brain.feed_forward(row[1:]/255)\n",
    "    guesses.append(np.argmax(guess) == row[0])\n",
    "    \n",
    "print('Test Data Accuracy: ', sum(guesses)/len(test))"
   ]
  },
  {
   "cell_type": "markdown",
   "metadata": {},
   "source": [
    "##### Draw a number on http://www.ccom.ucsd.edu/~cdeotte/programs/MNIST.html and download to test"
   ]
  },
  {
   "cell_type": "code",
   "execution_count": 12,
   "metadata": {},
   "outputs": [
    {
     "name": "stdout",
     "output_type": "stream",
     "text": [
      "Prediction:  7\n"
     ]
    },
    {
     "data": {
      "image/png": "[encoded data removed]",
      "text/plain": [
       "<Figure size 432x288 with 1 Axes>"
      ]
     },
     "metadata": {
      "needs_background": "light"
     },
     "output_type": "display_data"
    }
   ],
   "source": [
    "nine = np.array(pd.read_csv('./testData.csv'))\n",
    "nine.resize(28,28)\n",
    "plt.imshow(nine, cmap='Greys')\n",
    "nine = np.array(pd.read_csv('./testData.csv'))\n",
    "print('Prediction: ', np.argmax(brain.feed_forward(nine/255)))"
   ]
  },
  {
   "cell_type": "code",
   "execution_count": 13,
   "metadata": {},
   "outputs": [],
   "source": [
    "kaggle = pd.read_csv('train.csv')\n",
    "arkaggle = np.array(kaggle)"
   ]
  },
  {
   "cell_type": "code",
   "execution_count": 14,
   "metadata": {},
   "outputs": [],
   "source": [
    "kbrain = NeuralNetwork(784, 100, 10)"
   ]
  },
  {
   "cell_type": "code",
   "execution_count": 15,
   "metadata": {},
   "outputs": [],
   "source": [
    "for row in arkaggle:\n",
    "    label = [1 if row[0]==x else 0 for x in range(10)]\n",
    "    # ex: label should be [0 0 0 1 0 0 0 0 0 0] for a value of 3\n",
    "    # Train data on grayscale values normalized between 0 and 1. (divide each value by 255). Train on corresponding matrix label generated above\n",
    "    kbrain.train(row[1:] / 255, label)"
   ]
  },
  {
   "cell_type": "code",
   "execution_count": 16,
   "metadata": {},
   "outputs": [],
   "source": [
    "def nnout(row):\n",
    "    # Returns whether prediction made by trained NN matches the training data at a given row (input). Normalize each value as above.\n",
    "    guess = kbrain.feed_forward(arkaggle[row, 1:] / 255)\n",
    "    # Returns boolean whether prediction is equal to value in labels\n",
    "    return np.argmax(guess) == arkaggle[row, 0]"
   ]
  },
  {
   "cell_type": "code",
   "execution_count": 17,
   "metadata": {},
   "outputs": [
    {
     "name": "stdout",
     "output_type": "stream",
     "text": [
      "Training Data Accuracy:  0.9533095238095238\n"
     ]
    }
   ],
   "source": [
    "print('Training Data Accuracy: ', sum([nnout(x) for x in range(len(arkaggle))])/len(arkaggle))"
   ]
  },
  {
   "cell_type": "code",
   "execution_count": 24,
   "metadata": {},
   "outputs": [],
   "source": [
    "kaggle_test = pd.read_csv('test.csv')\n",
    "kaggle_test = np.array(kaggle_test)"
   ]
  },
  {
   "cell_type": "code",
   "execution_count": 69,
   "metadata": {},
   "outputs": [],
   "source": [
    "guesses = []\n",
    "for row in kaggle_test:\n",
    "    guess = kbrain.feed_forward(row/255)\n",
    "    guesses.append(np.argmax(guess))\n",
    "\n",
    "#print(guesses)\n",
    "a = np.array(range(1, len(guesses)+1))\n",
    "guesses = np.array([a, guesses])\n",
    "#guesses = guesses.transpose()"
   ]
  },
  {
   "cell_type": "code",
   "execution_count": 80,
   "metadata": {},
   "outputs": [],
   "source": [
    "kaggle_out = pd.DataFrame(guesses)\n",
    "kaggle_out = kaggle_out.transpose()\n",
    "kaggle_out.to_csv('out.csv', index=False)"
   ]
  },
  {
   "cell_type": "code",
   "execution_count": null,
   "metadata": {},
   "outputs": [],
   "source": []
  }
 ],
 "metadata": {
  "kernelspec": {
   "display_name": "Python 3",
   "language": "python",
   "name": "python3"
  },
  "language_info": {
   "codemirror_mode": {
    "name": "ipython",
    "version": 3
   },
   "file_extension": ".py",
   "mimetype": "text/x-python",
   "name": "python",
   "nbconvert_exporter": "python",
   "pygments_lexer": "ipython3",
   "version": "3.8.5"
  }
 },
 "nbformat": 4,
 "nbformat_minor": 4
}
