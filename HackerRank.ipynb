{
 "cells": [
  {
   "cell_type": "code",
   "execution_count": null,
   "metadata": {},
   "outputs": [],
   "source": [
    "import numpy as np\n",
    "\n",
    "N = int(input())\n",
    "def getinput(count):\n",
    "    out = []\n",
    "    while count > 0:\n",
    "        R = input()\n",
    "        out.append([float(i) for i in R.split()])\n",
    "        count -= 1\n",
    "    return np.array(out)\n",
    "\n",
    "A = getinput(N)\n",
    "B = getinput(N)\n",
    "\n",
    "B = B.transpose()\n",
    "out = []\n",
    "for i in range(N):\n",
    "    rows = []\n",
    "    for j in range(N):\n",
    "        rows.append(np.dot(A[i], B[j]))\n",
    "    out.append(rows)\n",
    "print(np.array(out))"
   ]
  },
  {
   "cell_type": "code",
   "execution_count": null,
   "metadata": {},
   "outputs": [],
   "source": [
    "import numpy as np\n",
    "A = np.array([int(i) for i in input().split()])\n",
    "B = np.array([int(i) for i in input().split()])\n",
    "print(np.inner(A, B))\n",
    "print(np.outer(A, B))"
   ]
  },
  {
   "cell_type": "code",
   "execution_count": null,
   "metadata": {},
   "outputs": [],
   "source": [
    "import numpy as np\n",
    "coeffs = [float(i) for i in input().split()]\n",
    "val = int(input())\n",
    "\n",
    "print(np.polyval(coeffs, val))\n"
   ]
  },
  {
   "cell_type": "code",
   "execution_count": null,
   "metadata": {},
   "outputs": [],
   "source": [
    "import numpy as np\n",
    "N = int(input())\n",
    "def getinput(count):\n",
    "    out = []\n",
    "    while count > 0:\n",
    "        R = input()\n",
    "        out.append([float(i) for i in R.split()])\n",
    "        count -= 1\n",
    "    return np.array(out)\n",
    "\n",
    "A = getinput(N)\n",
    "#A = getinput(2)\n",
    "#print(A)\n",
    "x = np.linalg.det(A)\n",
    "if x == 0:\n",
    "    print(0.0)\n",
    "else:\n",
    "    print(f'{np.linalg.det(A):f}')"
   ]
  },
  {
   "cell_type": "code",
   "execution_count": 23,
   "metadata": {
    "collapsed": true,
    "jupyter": {
     "outputs_hidden": true
    }
   },
   "outputs": [
    {
     "name": "stdin",
     "output_type": "stream",
     "text": [
      " 2\n"
     ]
    },
    {
     "ename": "ValueError",
     "evalue": "not enough values to unpack (expected 2, got 1)",
     "output_type": "error",
     "traceback": [
      "\u001b[0;31m---------------------------------------------------------------------------\u001b[0m",
      "\u001b[0;31mValueError\u001b[0m                                Traceback (most recent call last)",
      "\u001b[0;32m<ipython-input-23-4dd5448fbfb2>\u001b[0m in \u001b[0;36m<module>\u001b[0;34m\u001b[0m\n\u001b[1;32m      1\u001b[0m \u001b[0;32mimport\u001b[0m \u001b[0mnumpy\u001b[0m \u001b[0;32mas\u001b[0m \u001b[0mnp\u001b[0m\u001b[0;34m\u001b[0m\u001b[0;34m\u001b[0m\u001b[0m\n\u001b[0;32m----> 2\u001b[0;31m \u001b[0mN\u001b[0m\u001b[0;34m,\u001b[0m\u001b[0mM\u001b[0m \u001b[0;34m=\u001b[0m \u001b[0;34m[\u001b[0m\u001b[0mint\u001b[0m\u001b[0;34m(\u001b[0m\u001b[0mi\u001b[0m\u001b[0;34m)\u001b[0m \u001b[0;32mfor\u001b[0m \u001b[0mi\u001b[0m \u001b[0;32min\u001b[0m \u001b[0minput\u001b[0m\u001b[0;34m(\u001b[0m\u001b[0;34m)\u001b[0m\u001b[0;34m.\u001b[0m\u001b[0msplit\u001b[0m\u001b[0;34m(\u001b[0m\u001b[0;34m)\u001b[0m\u001b[0;34m]\u001b[0m\u001b[0;34m\u001b[0m\u001b[0;34m\u001b[0m\u001b[0m\n\u001b[0m\u001b[1;32m      3\u001b[0m \u001b[0mA\u001b[0m \u001b[0;34m=\u001b[0m \u001b[0mgetinput\u001b[0m\u001b[0;34m(\u001b[0m\u001b[0mN\u001b[0m\u001b[0;34m)\u001b[0m\u001b[0;34m\u001b[0m\u001b[0;34m\u001b[0m\u001b[0m\n\u001b[1;32m      4\u001b[0m \u001b[0mB\u001b[0m \u001b[0;34m=\u001b[0m \u001b[0mgetinput\u001b[0m\u001b[0;34m(\u001b[0m\u001b[0mN\u001b[0m\u001b[0;34m)\u001b[0m\u001b[0;34m\u001b[0m\u001b[0;34m\u001b[0m\u001b[0m\n\u001b[1;32m      5\u001b[0m \u001b[0mprint\u001b[0m\u001b[0;34m(\u001b[0m\u001b[0mnp\u001b[0m\u001b[0;34m.\u001b[0m\u001b[0marray\u001b[0m\u001b[0;34m(\u001b[0m\u001b[0mnp\u001b[0m\u001b[0;34m.\u001b[0m\u001b[0madd\u001b[0m\u001b[0;34m(\u001b[0m\u001b[0mA\u001b[0m\u001b[0;34m,\u001b[0m \u001b[0mB\u001b[0m\u001b[0;34m)\u001b[0m\u001b[0;34m,\u001b[0m \u001b[0mint\u001b[0m\u001b[0;34m)\u001b[0m\u001b[0;34m)\u001b[0m\u001b[0;34m\u001b[0m\u001b[0;34m\u001b[0m\u001b[0m\n",
      "\u001b[0;31mValueError\u001b[0m: not enough values to unpack (expected 2, got 1)"
     ]
    }
   ],
   "source": [
    "import numpy as np\n",
    "N,M = [int(i) for i in input().split()]\n",
    "A = getinput(N)\n",
    "B = getinput(N)\n",
    "print(np.array(np.add(A, B), int))\n",
    "print(np.array(np.subtract(A, B), int))\n",
    "print(np.array(np.multiply(A, B), int))\n",
    "out = []\n",
    "for i,j in enumerate(A):\n",
    "    out.append(A[i]//B[i])\n",
    "print(np.array(out, int))\n",
    "print(np.array(np.mod(A, B), int))\n",
    "print(np.array(np.power(A, B), int))"
   ]
  },
  {
   "cell_type": "code",
   "execution_count": 68,
   "metadata": {},
   "outputs": [
    {
     "name": "stdin",
     "output_type": "stream",
     "text": [
      " HELLO\n"
     ]
    },
    {
     "name": "stdout",
     "output_type": "stream",
     "text": [
      "Stuart 10\n"
     ]
    }
   ],
   "source": [
    "def minion_game(string):\n",
    "    vowels = ['A', 'E', 'I', 'O', 'U']\n",
    "    l = len(string)\n",
    "    count = 0\n",
    "    words = {}\n",
    "    for i in range(l):\n",
    "        for j in range(l):\n",
    "            x = string[i:j+1]\n",
    "            if x in words.keys():\n",
    "                words[x] += 1\n",
    "            elif x:\n",
    "                words[x] = 1\n",
    "            \n",
    "    stuart = 0\n",
    "    kevin = 0\n",
    "    for m,n in words.items():\n",
    "        if m[0] in vowels:\n",
    "            kevin += n\n",
    "        else:\n",
    "            stuart += n\n",
    "    \n",
    "    if stuart > kevin:\n",
    "        print(\"Stuart\", stuart)\n",
    "    elif stuart == kevin:\n",
    "        print(\"Draw\")\n",
    "    else:\n",
    "        print(\"Kevin\", kevin)\n",
    "            \n",
    "        \n",
    "if __name__ == '__main__':\n",
    "    s = input()\n",
    "    minion_game(s)\n",
    "    \n",
    "'''Too slow to work on hackerrank. Theyre testing with huge strings. need to just do one loop checking for numbers of vowel starting stubstrings from full length.'''"
   ]
  },
  {
   "cell_type": "code",
   "execution_count": 10,
   "metadata": {},
   "outputs": [
    {
     "name": "stdout",
     "output_type": "stream",
     "text": [
      "[[0, 0, 0], [0, 0, 1], [0, 1, 0], [1, 0, 0], [1, 1, 1]]\n"
     ]
    }
   ],
   "source": [
    "x = 1\n",
    "y = 1\n",
    "z = 1\n",
    "n = 2\n",
    "    \n",
    "print([[a,b,c] for a in range(x+1) for b in range(y+1) for c in range(z+1) if a+b+c != n])    \n"
   ]
  },
  {
   "cell_type": "code",
   "execution_count": 30,
   "metadata": {},
   "outputs": [
    {
     "name": "stdin",
     "output_type": "stream",
     "text": [
      " 12\n",
      " insert 0 5\n",
      " insert 1 10\n",
      " insert 0 6\n",
      " print\n"
     ]
    },
    {
     "name": "stdout",
     "output_type": "stream",
     "text": [
      "[6, 5, 10]\n"
     ]
    },
    {
     "name": "stdin",
     "output_type": "stream",
     "text": [
      " remove 6\n",
      " append 9\n",
      " append 1\n",
      " sort\n",
      " print\n"
     ]
    },
    {
     "name": "stdout",
     "output_type": "stream",
     "text": [
      "[1, 5, 9, 10]\n"
     ]
    },
    {
     "name": "stdin",
     "output_type": "stream",
     "text": [
      " pop\n",
      " reverse\n",
      " print\n"
     ]
    },
    {
     "name": "stdout",
     "output_type": "stream",
     "text": [
      "[9, 5, 1]\n"
     ]
    }
   ],
   "source": [
    "N = int(input())\n",
    "out = []\n",
    "while N > 0:\n",
    "    N_l = input().split()\n",
    "    kword = N_l[0]\n",
    "    if kword == 'print':\n",
    "        print(out)\n",
    "    elif kword == 'sort':\n",
    "        out.sort()\n",
    "    elif kword == 'reverse':\n",
    "        out.reverse()\n",
    "    elif kword == 'pop':\n",
    "        out.pop(-1)        \n",
    "    elif kword == 'remove':\n",
    "        i = int(N_l[1])\n",
    "        out.remove(i)\n",
    "    elif kword == 'insert':\n",
    "        i = int(N_l[1])\n",
    "        e = int(N_l[2])\n",
    "        out.insert(i, e)\n",
    "    elif kword == 'append':\n",
    "        i = int(N_l[1])\n",
    "        out.append(i)\n",
    "        \n",
    "    N -= 1"
   ]
  },
  {
   "cell_type": "code",
   "execution_count": 76,
   "metadata": {},
   "outputs": [
    {
     "name": "stdout",
     "output_type": "stream",
     "text": [
      "\n",
      "<article class=\"hentry\">\n",
      "  <!-- <header>\n",
      "    <h1 class=\"entry-title\">But Will It Make You Happy?</h1>\n",
      "    <time class=\"updated\" datetime=\"2010-08-07 11:11:03-0400\">08-07-2010</time>\n",
      "    <p class=\"byline author vcard\">\n",
      "        By <span class=\"fn\">Stephanie Rosenbloom</span>\n",
      "    </p>\n",
      "  </header> -->\n",
      "\n",
      "  <div class=\"entry-content\">\n",
      "      <p>...article text...</p>\n",
      "      <p>...article text...</p>\n",
      "\n",
      "      <figure>\n",
      "        <img src=\"tammy-strobel.jpg\" alt=\"Portrait of Tammy Strobel\" />\n",
      "        <figcaption>Tammy Strobel in her pared-down, 400sq-ft apt.</figcaption>\n",
      "      </figure>\n",
      "\n",
      "      <p>...article text...</p>\n",
      "      <p>...article text...</p>\n",
      "\n",
      "      <aside>\n",
      "        <h2>Share this Article</h2>\n",
      "        <ul>\n",
      "          <li>Facebook</li>\n",
      "          <li>Twitter</li>\n",
      "          <li>Etc</li>\n",
      "        </ul>\n",
      "      </aside>\n",
      "\n",
      "      <div class=\"entry-content-asset\">\n",
      "        <a href=\"photo-full.png\">\n",
      "          <img src=\"photo.png\" alt=\"The objects Tammy removed from her life after moving\" />\n",
      "        </a>\n",
      "      </div>\n",
      "\n",
      "      <p>...article text...</p>\n",
      "      <p>...article text...</p>\n",
      "\n",
      "      <a class=\"entry-unrelated\" href=\"http://fake.site/\">Find Great Vacations</a>\n",
      "  </div>\n",
      "\n",
      "  <footer>\n",
      "    <p>\n",
      "      A version of this article appeared in print on August 8,\n",
      "      2010, on page BU1 of the New York edition.\n",
      "    </p>\n",
      "    <div class=\"source-org vcard copyright\">\n",
      "        Copyright 2010 <span class=\"org fn\">The New York Times Company</span>\n",
      "    </div>\n",
      "  </footer>\n",
      "</article>\n"
     ]
    }
   ],
   "source": [
    "A = '''\n",
    "<article class=\"hentry\">\n",
    "  <!-- <header>\n",
    "    <h1 class=\"entry-title\">But Will It Make You Happy?</h1>\n",
    "    <time class=\"updated\" datetime=\"2010-08-07 11:11:03-0400\">08-07-2010</time>\n",
    "    <p class=\"byline author vcard\">\n",
    "        By <span class=\"fn\">Stephanie Rosenbloom</span>\n",
    "    </p>\n",
    "  </header> -->\n",
    "\n",
    "  <div class=\"entry-content\">\n",
    "      <p>...article text...</p>\n",
    "      <p>...article text...</p>\n",
    "\n",
    "      <figure>\n",
    "        <img src=\"tammy-strobel.jpg\" alt=\"Portrait of Tammy Strobel\" />\n",
    "        <figcaption>Tammy Strobel in her pared-down, 400sq-ft apt.</figcaption>\n",
    "      </figure>\n",
    "\n",
    "      <p>...article text...</p>\n",
    "      <p>...article text...</p>\n",
    "\n",
    "      <aside>\n",
    "        <h2>Share this Article</h2>\n",
    "        <ul>\n",
    "          <li>Facebook</li>\n",
    "          <li>Twitter</li>\n",
    "          <li>Etc</li>\n",
    "        </ul>\n",
    "      </aside>\n",
    "\n",
    "      <div class=\"entry-content-asset\">\n",
    "        <a href=\"photo-full.png\">\n",
    "          <img src=\"photo.png\" alt=\"The objects Tammy removed from her life after moving\" />\n",
    "        </a>\n",
    "      </div>\n",
    "\n",
    "      <p>...article text...</p>\n",
    "      <p>...article text...</p>\n",
    "\n",
    "      <a class=\"entry-unrelated\" href=\"http://fake.site/\">Find Great Vacations</a>\n",
    "  </div>\n",
    "\n",
    "  <footer>\n",
    "    <p>\n",
    "      A version of this article appeared in print on August 8,\n",
    "      2010, on page BU1 of the New York edition.\n",
    "    </p>\n",
    "    <div class=\"source-org vcard copyright\">\n",
    "        Copyright 2010 <span class=\"org fn\">The New York Times Company</span>\n",
    "    </div>\n",
    "  </footer>\n",
    "</article>'''\n"
   ]
  },
  {
   "cell_type": "code",
   "execution_count": 79,
   "metadata": {},
   "outputs": [
    {
     "name": "stdout",
     "output_type": "stream",
     "text": [
      "Start : article\n",
      "-> class > hentry\n",
      "Start : div\n",
      "-> class > entry-content\n",
      "Start : p\n",
      "End   : p\n",
      "Start : p\n",
      "End   : p\n",
      "Start : figure\n",
      "Empty : img\n",
      "-> src > tammy-strobel.jpg\n",
      "-> alt > Portrait of Tammy Strobel\n",
      "Start : figcaption\n",
      "End   : figcaption\n",
      "End   : figure\n",
      "Start : p\n",
      "End   : p\n",
      "Start : p\n",
      "End   : p\n",
      "Start : aside\n",
      "Start : h2\n",
      "End   : h2\n",
      "Start : ul\n",
      "Start : li\n",
      "End   : li\n",
      "Start : li\n",
      "End   : li\n",
      "Start : li\n",
      "End   : li\n",
      "End   : ul\n",
      "End   : aside\n",
      "Start : div\n",
      "-> class > entry-content-asset\n",
      "Start : a\n",
      "-> href > photo-full.png\n",
      "Empty : img\n",
      "-> src > photo.png\n",
      "-> alt > The objects Tammy removed from her life after moving\n",
      "End   : a\n",
      "End   : div\n",
      "Start : p\n",
      "End   : p\n",
      "Start : p\n",
      "End   : p\n",
      "Start : a\n",
      "-> class > entry-unrelated\n",
      "-> href > http://fake.site/\n",
      "End   : a\n",
      "End   : div\n",
      "Start : footer\n",
      "Start : p\n",
      "End   : p\n",
      "Start : div\n",
      "-> class > source-org vcard copyright\n",
      "Start : span\n",
      "-> class > org fn\n",
      "End   : span\n",
      "End   : div\n",
      "End   : footer\n",
      "End   : article\n"
     ]
    }
   ],
   "source": [
    "from html.parser import HTMLParser\n",
    "\n",
    "class CustomParser(HTMLParser):\n",
    "    def handle_starttag(self, tag, attrs):\n",
    "        print(\"Start :\", tag)\n",
    "        [print(\"-> {} > {}\".format(i[0], i[1])) for i in attrs]\n",
    "    def handle_endtag(self, tag):\n",
    "        print(\"End   :\", tag)\n",
    "    def handle_startendtag(self, tag, attrs):\n",
    "        print(\"Empty :\", tag)\n",
    "        [print(\"-> {} > {}\".format(i[0], i[1])) for i in attrs]\n",
    "\n",
    "\n",
    "A = CustomParser()\n",
    "A.feed('''\n",
    "<article class=\"hentry\">\n",
    "  <!-- <header>\n",
    "    <h1 class=\"entry-title\">But Will It Make You Happy?</h1>\n",
    "    <time class=\"updated\" datetime=\"2010-08-07 11:11:03-0400\">08-07-2010</time>\n",
    "    <p class=\"byline author vcard\">\n",
    "        By <span class=\"fn\">Stephanie Rosenbloom</span>\n",
    "    </p>\n",
    "  </header> -->\n",
    "\n",
    "  <div class=\"entry-content\">\n",
    "      <p>...article text...</p>\n",
    "      <p>...article text...</p>\n",
    "\n",
    "      <figure>\n",
    "        <img src=\"tammy-strobel.jpg\" alt=\"Portrait of Tammy Strobel\" />\n",
    "        <figcaption>Tammy Strobel in her pared-down, 400sq-ft apt.</figcaption>\n",
    "      </figure>\n",
    "\n",
    "      <p>...article text...</p>\n",
    "      <p>...article text...</p>\n",
    "\n",
    "      <aside>\n",
    "        <h2>Share this Article</h2>\n",
    "        <ul>\n",
    "          <li>Facebook</li>\n",
    "          <li>Twitter</li>\n",
    "          <li>Etc</li>\n",
    "        </ul>\n",
    "      </aside>\n",
    "\n",
    "      <div class=\"entry-content-asset\">\n",
    "        <a href=\"photo-full.png\">\n",
    "          <img src=\"photo.png\" alt=\"The objects Tammy removed from her life after moving\" />\n",
    "        </a>\n",
    "      </div>\n",
    "\n",
    "      <p>...article text...</p>\n",
    "      <p>...article text...</p>\n",
    "\n",
    "      <a class=\"entry-unrelated\" href=\"http://fake.site/\">Find Great Vacations</a>\n",
    "  </div>\n",
    "\n",
    "  <footer>\n",
    "    <p>\n",
    "      A version of this article appeared in print on August 8,\n",
    "      2010, on page BU1 of the New York edition.\n",
    "    </p>\n",
    "    <div class=\"source-org vcard copyright\">\n",
    "        Copyright 2010 <span class=\"org fn\">The New York Times Company</span>\n",
    "    </div>\n",
    "  </footer>\n",
    "</article>''')"
   ]
  }
 ],
 "metadata": {
  "kernelspec": {
   "display_name": "Python 3",
   "language": "python",
   "name": "python3"
  },
  "language_info": {
   "codemirror_mode": {
    "name": "ipython",
    "version": 3
   },
   "file_extension": ".py",
   "mimetype": "text/x-python",
   "name": "python",
   "nbconvert_exporter": "python",
   "pygments_lexer": "ipython3",
   "version": "3.8.5"
  }
 },
 "nbformat": 4,
 "nbformat_minor": 4
}
